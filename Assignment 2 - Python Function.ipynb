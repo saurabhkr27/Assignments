{
 "cells": [
  {
   "cell_type": "markdown",
   "metadata": {},
   "source": [
    "## Problem Statement"
   ]
  },
  {
   "cell_type": "markdown",
   "metadata": {},
   "source": [
    "Q.1 Write a Python Program to implement your own myreduce() function which works exactly like\n",
    "Python's built-in function reduce()\n"
   ]
  },
  {
   "cell_type": "code",
   "execution_count": 1,
   "metadata": {},
   "outputs": [
    {
     "name": "stdout",
     "output_type": "stream",
     "text": [
      "The resultant of myreduce() is  20\n"
     ]
    }
   ],
   "source": [
    "ab = [1,2,3,5,2,7]\n",
    "def myr(myfunc,lst):\n",
    "    total = lst[0]\n",
    "    for i in lst[1:]:\n",
    "        total = myfunc(total,i)\n",
    "    return total\n",
    "def add(a,b):\n",
    "    return a+b\n",
    "\n",
    "print(\"The resultant of myreduce() is \",myr(add,ab))"
   ]
  },
  {
   "cell_type": "markdown",
   "metadata": {},
   "source": [
    "Q.2 Write a Python program to implement your own myfilter() function which works exactly like\n",
    "Python's built-in function filter()"
   ]
  },
  {
   "cell_type": "code",
   "execution_count": 2,
   "metadata": {},
   "outputs": [
    {
     "name": "stdout",
     "output_type": "stream",
     "text": [
      "The resultant of myfilter() is  [0, 2, 4, 6, 8, 10, 12, 14, 16, 18]\n"
     ]
    }
   ],
   "source": [
    "xy = list(range(20))\n",
    "def myf(even,xy):\n",
    "    new_list = []\n",
    "    for i in xy:\n",
    "        if even(i):\n",
    "            new_list.append(i)\n",
    "    return new_list\n",
    "def even(x):        \n",
    "    if x%2 ==0:\n",
    "        return True\n",
    "    else:\n",
    "        return False\n",
    "    \n",
    "print(\"The resultant of myfilter() is \",myf(even,xy))"
   ]
  },
  {
   "cell_type": "markdown",
   "metadata": {},
   "source": [
    "Q.3 Implement List comprehensions to produce the following lists.\n",
    "   Write List comprehensions to produce the following Lists\n",
    "   \n",
    "    ['A', 'C', 'A', 'D', 'G', 'I', ’L’, ‘ D’]\n",
    "   \n",
    "    ['x', 'xx', 'xxx', 'xxxx', 'y', 'yy', 'yyy', 'yyyy', 'z', 'zz', 'zzz', 'zzzz']\n",
    "\n",
    "    ['x', 'y', 'z', 'xx', 'yy', 'zz', 'xx', 'yy', 'zz', 'xxxx', 'yyyy', 'zzzz']\n",
    "    \n",
    "    [[2], [3], [4], [3], [4], [5], [4], [5], [6]]\n",
    "\n",
    "    [[2, 3, 4, 5], [3, 4, 5, 6], [4, 5, 6, 7], [5, 6, 7, 8]]\n",
    "\n",
    "    [(1, 1), (2, 1), (3, 1), (1, 2), (2, 2), (3, 2), (1, 3), (2, 3), (3, 3)]"
   ]
  },
  {
   "cell_type": "code",
   "execution_count": 3,
   "metadata": {},
   "outputs": [
    {
     "name": "stdout",
     "output_type": "stream",
     "text": [
      "ACADGILD =  ['A', 'C', 'A', 'D', 'G', 'I', 'L', 'D']\n",
      "['x', 'xx', 'xxx', 'xxxx', 'y', 'yy', 'yyy', 'yyyy', 'z', 'zz', 'zzz', 'zzzz']\n",
      "['x', 'y', 'z', 'xx', 'yy', 'zz', 'xxx', 'yyy', 'zzz', 'xxxx', 'yyyy', 'zzzz']\n",
      "[[2], [3], [4], [3], [4], [5], [4], [5], [6]]\n",
      "[[2, 3, 4, 5], [3, 4, 5, 6], [4, 5, 6, 7], [5, 6, 7, 8]]\n",
      "[(1, 1), (2, 1), (3, 1), (1, 2), (2, 2), (3, 2), (1, 3), (2, 3), (3, 3)]\n"
     ]
    }
   ],
   "source": [
    "word = \"ACADGILD\"\n",
    "alpha_list = [ i for i in word ]\n",
    "print (\"ACADGILD = \", alpha_list)\n",
    "\n",
    "wrd = ['x','y','z']\n",
    "print([i*a for i in wrd for a in range(1,5)]) \n",
    "\n",
    "print([i*a for a in range(1,5) for i in wrd])\n",
    "\n",
    "lst = [2,3,4]\n",
    "print([[j] for i in lst for j in range(i,i+3)])\n",
    "\n",
    "w = [2,3,4,5]\n",
    "print([ [j+i for j in w] for i in range(0,4)])\n",
    "\n",
    "\n",
    "print([(j,i) for i in range(1,4) for j in range(1,4)])"
   ]
  },
  {
   "cell_type": "markdown",
   "metadata": {},
   "source": [
    "Q.4 Implement a function longestWord() that takes a list of words and returns the longest one."
   ]
  },
  {
   "cell_type": "code",
   "execution_count": 4,
   "metadata": {},
   "outputs": [
    {
     "name": "stdout",
     "output_type": "stream",
     "text": [
      "the longest word of the list is  abcdefghijkpoutr\n"
     ]
    }
   ],
   "source": [
    "sentence = ['saurabh','kumar','abcdefghijkpoutr','right','yes','i','do','may','elephant','tremendously']\n",
    "def longestWord(words):\n",
    "    word = words[0]\n",
    "    length = len(words[0])\n",
    "    for i in words[1:]:\n",
    "        if len(i) >= length:\n",
    "            word = i\n",
    "            length = len(i)\n",
    "        else:\n",
    "            continue\n",
    "    return word\n",
    "\n",
    "print(\"the longest word of the list is \", longestWord(sentence))"
   ]
  },
  {
   "cell_type": "markdown",
   "metadata": {},
   "source": [
    "Q.5 Write a Python Program(with class concepts) to find the area of the triangle using the below\n",
    "formula.\n",
    "\n",
    "area = (s*(s-a)*(s-b)*(s-c)) ** 0.5\n",
    "\n",
    "Function to take the length of the sides of triangle from user should be defined in the parent\n",
    "class and function to calculate the area should be defined in subclass."
   ]
  },
  {
   "cell_type": "code",
   "execution_count": 5,
   "metadata": {},
   "outputs": [],
   "source": [
    "class Triangle:\n",
    "    def __init__(self, side1,side2,side3):\n",
    "        self.a = side1\n",
    "        self.b = side2\n",
    "        self.c = side3\n",
    "    def __str__(self):\n",
    "        return \"the 3 sides of traingle are %d, %d, %d\"%(self.a,self.b,self.c)\n",
    "class Area(Triangle):\n",
    "    def __init__(self, *args):\n",
    "        super().__init__(*args)\n",
    "    def cal(self):\n",
    "        self.s = (self.a+self.b+self.c)/2\n",
    "        self.area = (self.s*(self.s-self.a)*(self.s-self.b)*(self.s-self.c))**0.5\n",
    "        return self.area"
   ]
  },
  {
   "cell_type": "code",
   "execution_count": 6,
   "metadata": {},
   "outputs": [
    {
     "name": "stdout",
     "output_type": "stream",
     "text": [
      "The area of the triangle is  1062.3517249480042\n"
     ]
    }
   ],
   "source": [
    "a1 = Area(89,85,25)\n",
    "print(\"The area of the triangle is \",a1.cal())"
   ]
  },
  {
   "cell_type": "markdown",
   "metadata": {},
   "source": [
    "Q.6 Write a function filter_long_words() that takes a list of words and an integer n and returns the list\n",
    "of words that are longer than n."
   ]
  },
  {
   "cell_type": "code",
   "execution_count": 7,
   "metadata": {},
   "outputs": [
    {
     "name": "stdout",
     "output_type": "stream",
     "text": [
      "The list of words with length greater than n ['saurabh', 'kumar', 'abcdefghijkpoutr', 'right', 'elephant', 'tremendously']\n"
     ]
    }
   ],
   "source": [
    "words = ['saurabh','kumar','abcdefghijkpoutr','right','yes','i','do','may','elephant','tremendously']\n",
    "def filter_long_words(sent,n):\n",
    "    lis_words = []\n",
    "    for i in sent:\n",
    "        if len(i) > n:\n",
    "            lis_words.append(i)\n",
    "        continue\n",
    "    return lis_words\n",
    "\n",
    "print(\"The list of words with length greater than n\",filter_long_words(words,3))"
   ]
  },
  {
   "cell_type": "markdown",
   "metadata": {},
   "source": [
    "Q.7 Write a Python program using function concept that maps list of words into a list of integers\n",
    "representing the lengths of the corresponding words.\n",
    "    \n",
    "    Hint: If a list [ ab,cde,erty] is passed on to the python function output should come as [2,3,4]\n",
    "    Here 2,3 and 4 are the lengths of the words in the list."
   ]
  },
  {
   "cell_type": "code",
   "execution_count": 8,
   "metadata": {},
   "outputs": [
    {
     "name": "stdout",
     "output_type": "stream",
     "text": [
      "The length of the words in the list is [7, 5, 16, 5, 3, 1, 2, 3, 8, 12]\n"
     ]
    }
   ],
   "source": [
    "list_words = ['saurabh','kumar','abcdefghijkpoutr','right','yes','i','do','may','elephant','tremendously']\n",
    "def lengths(sent):\n",
    "    lis_lengths = []\n",
    "    for i in sent:\n",
    "        lis_lengths.append(len(i))\n",
    "    return lis_lengths\n",
    "print(\"The length of the words in the list is\",lengths(list_words))"
   ]
  },
  {
   "cell_type": "markdown",
   "metadata": {},
   "source": [
    "Q.8 Write a Python function which takes a character (i.e. a string of length 1) and returns True if it is\n",
    "a vowel, False otherwise."
   ]
  },
  {
   "cell_type": "code",
   "execution_count": 9,
   "metadata": {},
   "outputs": [
    {
     "name": "stdout",
     "output_type": "stream",
     "text": [
      "enter the character r\n",
      "Character input is vowel ?  False\n"
     ]
    }
   ],
   "source": [
    "vowel = ['a','e','i','o','u']\n",
    "def vow_check():\n",
    "    a = input(\"enter the character \")\n",
    "    if a in vowel:\n",
    "        return True\n",
    "    return False\n",
    "print(\"Character input is vowel ? \",vow_check())"
   ]
  },
  {
   "cell_type": "markdown",
   "metadata": {},
   "source": [
    "## Great job!"
   ]
  }
 ],
 "metadata": {
  "kernelspec": {
   "display_name": "Python 3",
   "language": "python",
   "name": "python3"
  },
  "language_info": {
   "codemirror_mode": {
    "name": "ipython",
    "version": 3
   },
   "file_extension": ".py",
   "mimetype": "text/x-python",
   "name": "python",
   "nbconvert_exporter": "python",
   "pygments_lexer": "ipython3",
   "version": "3.6.4"
  }
 },
 "nbformat": 4,
 "nbformat_minor": 2
}
